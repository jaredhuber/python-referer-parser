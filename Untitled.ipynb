{
 "cells": [
  {
   "cell_type": "code",
   "execution_count": 1,
   "id": "c4bd43a3-c635-44b4-a6bf-80611617ea79",
   "metadata": {},
   "outputs": [],
   "source": [
    "from referer_parser import Referer\n",
    "\n",
    "landing_url = 'https://opensea.io/assets/solana/CckU35RbCcz5m75if8pXcmeTs7dYR7SJPPBSwQTbYTeE?utm_campaign=paid_search_direct_to_pdp&utm_source=google&utm_medium=search'\n",
    "referer_url = 'http://www.google.com/search?q=gateway+oracle+cards+denise+linn&hl=en&client=safari'\n",
    "\n",
    "r = Referer(referer_url)\n",
    "\n"
   ]
  },
  {
   "cell_type": "code",
   "execution_count": 2,
   "id": "3cc8b6a5-bdf1-4258-b6a8-1a33e6abdce1",
   "metadata": {},
   "outputs": [
    {
     "data": {
      "text/plain": [
       "'https://opensea.io/assets/solana/CckU35RbCcz5m75if8pXcmeTs7dYR7SJPPBSwQTbYTeE?utm_campaign=paid_search_direct_to_pdp&utm_source=google&utm_medium=search'"
      ]
     },
     "execution_count": 2,
     "metadata": {},
     "output_type": "execute_result"
    }
   ],
   "source": [
    "landing_url\n"
   ]
  },
  {
   "cell_type": "code",
   "execution_count": 4,
   "id": "1841859b-2da5-4505-a152-cd083dc13038",
   "metadata": {},
   "outputs": [],
   "source": [
    "u = Referer(landing_url)"
   ]
  },
  {
   "cell_type": "code",
   "execution_count": 5,
   "id": "717295d1-a459-42f6-9dab-8d0eecc2fd04",
   "metadata": {},
   "outputs": [
    {
     "data": {
      "text/plain": [
       "ParseResult(scheme='https', netloc='opensea.io', path='/assets/solana/CckU35RbCcz5m75if8pXcmeTs7dYR7SJPPBSwQTbYTeE', params='', query='utm_campaign=paid_search_direct_to_pdp&utm_source=google&utm_medium=search', fragment='')"
      ]
     },
     "execution_count": 5,
     "metadata": {},
     "output_type": "execute_result"
    }
   ],
   "source": [
    "u.uri"
   ]
  },
  {
   "cell_type": "code",
   "execution_count": null,
   "id": "dacea9cc-08d3-4e1a-bb32-e30d2c5ebaeb",
   "metadata": {},
   "outputs": [],
   "source": []
  }
 ],
 "metadata": {
  "kernelspec": {
   "display_name": "Python 3 (ipykernel)",
   "language": "python",
   "name": "python3"
  },
  "language_info": {
   "codemirror_mode": {
    "name": "ipython",
    "version": 3
   },
   "file_extension": ".py",
   "mimetype": "text/x-python",
   "name": "python",
   "nbconvert_exporter": "python",
   "pygments_lexer": "ipython3",
   "version": "3.9.12"
  }
 },
 "nbformat": 4,
 "nbformat_minor": 5
}
